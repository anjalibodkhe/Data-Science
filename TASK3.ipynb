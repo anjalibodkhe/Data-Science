{
  "nbformat": 4,
  "nbformat_minor": 0,
  "metadata": {
    "colab": {
      "provenance": []
    },
    "kernelspec": {
      "name": "python3",
      "display_name": "Python 3"
    },
    "language_info": {
      "name": "python"
    }
  },
  "cells": [
    {
      "cell_type": "markdown",
      "source": [
        "Data Science Intern @LGM Virtual Internship 2023\n",
        "\n",
        "NAME - ANJALI ANAND BODKHE\n",
        "\n",
        "TASK 3 (BEGINNER LEVEL TASK) Image to Pencil Sketch with Python:\n",
        "\n",
        "We need to read the image in RBG format and then convert it to a grayscale image. This will turn an image into a classic black and white photo. Then the next thing to do is invert the grayscale image also called negative image, this will be our inverted grayscale image. Inversion can be used to enhance details. Then we can finally create the pencil sketch by mixing the grayscale image with the inverted blurry image. This can be done by dividing the grayscale image by the inverted blurry image. Since images are just arrays, we can easily do this programmatically using the divide function from the cv2 library in Python"
      ],
      "metadata": {
        "id": "3Ghb-GM9oMbi"
      }
    },
    {
      "cell_type": "markdown",
      "source": [
        "# Importing Packages\n"
      ],
      "metadata": {
        "id": "TIKhC4z5oWks"
      }
    },
    {
      "cell_type": "code",
      "execution_count": 1,
      "metadata": {
        "id": "15rLVo8mlE7F"
      },
      "outputs": [],
      "source": [
        "import cv2\n",
        "import numpy as np\n",
        "import plotly.express as px"
      ]
    },
    {
      "cell_type": "markdown",
      "source": [
        "**Loading Images**"
      ],
      "metadata": {
        "id": "HynZnN0nogDv"
      }
    },
    {
      "cell_type": "code",
      "source": [
        "img = cv2.imread(\"dog.jpg\")\n",
        "img = cv2.cvtColor(img,cv2.COLOR_BGR2RGB)\n",
        "imgs=px.imshow(img)"
      ],
      "metadata": {
        "id": "uHtKJKtWnLkL"
      },
      "execution_count": 2,
      "outputs": []
    },
    {
      "cell_type": "code",
      "source": [
        "imgs.update_xaxes(showticklabels=False).update_yaxes(showticklabels=False)\n",
        "imgs.show()"
      ],
      "metadata": {
        "id": "-3Syq0NjnXHz"
      },
      "execution_count": null,
      "outputs": []
    },
    {
      "cell_type": "markdown",
      "source": [
        "Resizing image shape\n",
        "\n"
      ],
      "metadata": {
        "id": "yPJnrZASooUs"
      }
    },
    {
      "cell_type": "code",
      "source": [
        "scale_percent = 0.60\n",
        "width = int(img.shape[1]*scale_percent)\n",
        "height = int(img.shape[0]*scale_percent)\n",
        "dim = (width,height)\n",
        "resized = cv2.resize(img,dim,interpolation = cv2.INTER_AREA)\n",
        "res=px.imshow(resized)\n",
        "res.update_xaxes(showticklabels=False).update_yaxes(showticklabels=False)\n",
        "res.show()"
      ],
      "metadata": {
        "id": "v-BOlQH-nW5g"
      },
      "execution_count": null,
      "outputs": []
    },
    {
      "cell_type": "markdown",
      "source": [
        "Sharpening Image"
      ],
      "metadata": {
        "id": "pMSxN71DpDiG"
      }
    },
    {
      "cell_type": "code",
      "source": [
        "kernel_sharpening = np.array([[-1,-1,-1], \n",
        "                              [-1, 9,-1],\n",
        "                              [-1,-1,-1]])\n",
        "sharpened = cv2.filter2D(resized,-1,kernel_sharpening)\n",
        "sharp=px.imshow(sharpened)\n",
        "sharp.update_xaxes(showticklabels=False).update_yaxes(showticklabels=False)\n",
        "sharp.show()"
      ],
      "metadata": {
        "id": "DA67n9jSnl3T"
      },
      "execution_count": null,
      "outputs": []
    },
    {
      "cell_type": "markdown",
      "source": [
        "Converting an image into gray_scale image"
      ],
      "metadata": {
        "id": "3WQpJX_1pIoJ"
      }
    },
    {
      "cell_type": "code",
      "source": [
        "grayscale = cv2.cvtColor(sharpened , cv2.COLOR_BGR2GRAY)\n",
        "gray = px.imshow(grayscale, color_continuous_scale='gray')\n",
        "gray.update_xaxes(showticklabels=False).update_yaxes(showticklabels=False)\n",
        "gray.show()"
      ],
      "metadata": {
        "id": "CPTiRt5fnqnv"
      },
      "execution_count": null,
      "outputs": []
    },
    {
      "cell_type": "markdown",
      "source": [
        "Inverting the image"
      ],
      "metadata": {
        "id": "_U9WX86apPg2"
      }
    },
    {
      "cell_type": "code",
      "source": [
        "invs = 255-grayscale\n",
        "inv=px.imshow(invs,color_continuous_scale='gray')\n",
        "inv.update_xaxes(showticklabels=False).update_yaxes(showticklabels=False)\n",
        "inv.show()\n"
      ],
      "metadata": {
        "id": "73tHon3EnxrZ"
      },
      "execution_count": null,
      "outputs": []
    },
    {
      "cell_type": "markdown",
      "source": [
        "Smoothing the image"
      ],
      "metadata": {
        "id": "YOgqS_rwpSzN"
      }
    },
    {
      "cell_type": "code",
      "source": [
        "gauss = cv2.GaussianBlur(invs,ksize=(15,15),sigmaX=0,sigmaY=0)\n",
        "gaus=px.imshow(gauss,color_continuous_scale='gray')\n",
        "gaus.update_xaxes(showticklabels=False).update_yaxes(showticklabels=False)\n",
        "gaus.show()\n",
        "     "
      ],
      "metadata": {
        "id": "XCmfUpeNnzUC"
      },
      "execution_count": null,
      "outputs": []
    },
    {
      "cell_type": "markdown",
      "source": [
        "Obtaining the final sketch"
      ],
      "metadata": {
        "id": "sPJJ0dzvpVyl"
      }
    },
    {
      "cell_type": "code",
      "source": [
        "def dodgeV2(image,mask):\n",
        "    return cv2.divide(image,255-mask,scale=256)\n",
        "\n",
        "pencil_img = dodgeV2(grayscale,gauss)\n",
        "sketch=px.imshow(pencil_img,color_continuous_scale='gray')\n",
        "#sketch.update_layout(width=990, height=600 ,margin=dict(l=20, r=20, b=10, t=10))\n",
        "sketch.update_layout(coloraxis_showscale=False)\n",
        "sketch.update_xaxes(showticklabels=False).update_yaxes(showticklabels=False)\n",
        "sketch.show()\n"
      ],
      "metadata": {
        "id": "fIDyxfObn6ul"
      },
      "execution_count": null,
      "outputs": []
    }
  ]
}